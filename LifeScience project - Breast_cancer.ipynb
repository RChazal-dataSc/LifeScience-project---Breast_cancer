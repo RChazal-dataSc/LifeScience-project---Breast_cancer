{
 "cells": [
  {
   "cell_type": "code",
   "execution_count": 1,
   "id": "5b2dd1ad",
   "metadata": {},
   "outputs": [],
   "source": [
    "#Breast Cancer : simple machine learning script"
   ]
  },
  {
   "cell_type": "code",
   "execution_count": 2,
   "id": "8e77b7ed",
   "metadata": {},
   "outputs": [
    {
     "data": {
      "text/html": [
       "<div>\n",
       "<style scoped>\n",
       "    .dataframe tbody tr th:only-of-type {\n",
       "        vertical-align: middle;\n",
       "    }\n",
       "\n",
       "    .dataframe tbody tr th {\n",
       "        vertical-align: top;\n",
       "    }\n",
       "\n",
       "    .dataframe thead th {\n",
       "        text-align: right;\n",
       "    }\n",
       "</style>\n",
       "<table border=\"1\" class=\"dataframe\">\n",
       "  <thead>\n",
       "    <tr style=\"text-align: right;\">\n",
       "      <th></th>\n",
       "      <th>Sample code number</th>\n",
       "      <th>Clump Thickness</th>\n",
       "      <th>Uniformity of Cell Size</th>\n",
       "      <th>Uniformity of Cell Shape</th>\n",
       "      <th>Marginal Adhesion</th>\n",
       "      <th>Single Epithelial Cell Size</th>\n",
       "      <th>Bare Nuclei</th>\n",
       "      <th>Bland Chromatin</th>\n",
       "      <th>Normal Nucleoli</th>\n",
       "      <th>Mitoses</th>\n",
       "      <th>Class</th>\n",
       "    </tr>\n",
       "  </thead>\n",
       "  <tbody>\n",
       "    <tr>\n",
       "      <th>0</th>\n",
       "      <td>1000025</td>\n",
       "      <td>5</td>\n",
       "      <td>1</td>\n",
       "      <td>1</td>\n",
       "      <td>1</td>\n",
       "      <td>2</td>\n",
       "      <td>1</td>\n",
       "      <td>3</td>\n",
       "      <td>1</td>\n",
       "      <td>1</td>\n",
       "      <td>2</td>\n",
       "    </tr>\n",
       "    <tr>\n",
       "      <th>1</th>\n",
       "      <td>1002945</td>\n",
       "      <td>5</td>\n",
       "      <td>4</td>\n",
       "      <td>4</td>\n",
       "      <td>5</td>\n",
       "      <td>7</td>\n",
       "      <td>10</td>\n",
       "      <td>3</td>\n",
       "      <td>2</td>\n",
       "      <td>1</td>\n",
       "      <td>2</td>\n",
       "    </tr>\n",
       "    <tr>\n",
       "      <th>2</th>\n",
       "      <td>1015425</td>\n",
       "      <td>3</td>\n",
       "      <td>1</td>\n",
       "      <td>1</td>\n",
       "      <td>1</td>\n",
       "      <td>2</td>\n",
       "      <td>2</td>\n",
       "      <td>3</td>\n",
       "      <td>1</td>\n",
       "      <td>1</td>\n",
       "      <td>2</td>\n",
       "    </tr>\n",
       "    <tr>\n",
       "      <th>3</th>\n",
       "      <td>1016277</td>\n",
       "      <td>6</td>\n",
       "      <td>8</td>\n",
       "      <td>8</td>\n",
       "      <td>1</td>\n",
       "      <td>3</td>\n",
       "      <td>4</td>\n",
       "      <td>3</td>\n",
       "      <td>7</td>\n",
       "      <td>1</td>\n",
       "      <td>2</td>\n",
       "    </tr>\n",
       "    <tr>\n",
       "      <th>4</th>\n",
       "      <td>1017023</td>\n",
       "      <td>4</td>\n",
       "      <td>1</td>\n",
       "      <td>1</td>\n",
       "      <td>3</td>\n",
       "      <td>2</td>\n",
       "      <td>1</td>\n",
       "      <td>3</td>\n",
       "      <td>1</td>\n",
       "      <td>1</td>\n",
       "      <td>2</td>\n",
       "    </tr>\n",
       "    <tr>\n",
       "      <th>5</th>\n",
       "      <td>1017122</td>\n",
       "      <td>8</td>\n",
       "      <td>10</td>\n",
       "      <td>10</td>\n",
       "      <td>8</td>\n",
       "      <td>7</td>\n",
       "      <td>10</td>\n",
       "      <td>9</td>\n",
       "      <td>7</td>\n",
       "      <td>1</td>\n",
       "      <td>4</td>\n",
       "    </tr>\n",
       "    <tr>\n",
       "      <th>6</th>\n",
       "      <td>1018099</td>\n",
       "      <td>1</td>\n",
       "      <td>1</td>\n",
       "      <td>1</td>\n",
       "      <td>1</td>\n",
       "      <td>2</td>\n",
       "      <td>10</td>\n",
       "      <td>3</td>\n",
       "      <td>1</td>\n",
       "      <td>1</td>\n",
       "      <td>2</td>\n",
       "    </tr>\n",
       "    <tr>\n",
       "      <th>7</th>\n",
       "      <td>1018561</td>\n",
       "      <td>2</td>\n",
       "      <td>1</td>\n",
       "      <td>2</td>\n",
       "      <td>1</td>\n",
       "      <td>2</td>\n",
       "      <td>1</td>\n",
       "      <td>3</td>\n",
       "      <td>1</td>\n",
       "      <td>1</td>\n",
       "      <td>2</td>\n",
       "    </tr>\n",
       "    <tr>\n",
       "      <th>8</th>\n",
       "      <td>1033078</td>\n",
       "      <td>2</td>\n",
       "      <td>1</td>\n",
       "      <td>1</td>\n",
       "      <td>1</td>\n",
       "      <td>2</td>\n",
       "      <td>1</td>\n",
       "      <td>1</td>\n",
       "      <td>1</td>\n",
       "      <td>5</td>\n",
       "      <td>2</td>\n",
       "    </tr>\n",
       "    <tr>\n",
       "      <th>9</th>\n",
       "      <td>1033078</td>\n",
       "      <td>4</td>\n",
       "      <td>2</td>\n",
       "      <td>1</td>\n",
       "      <td>1</td>\n",
       "      <td>2</td>\n",
       "      <td>1</td>\n",
       "      <td>2</td>\n",
       "      <td>1</td>\n",
       "      <td>1</td>\n",
       "      <td>2</td>\n",
       "    </tr>\n",
       "  </tbody>\n",
       "</table>\n",
       "</div>"
      ],
      "text/plain": [
       "   Sample code number  Clump Thickness  Uniformity of Cell Size  \\\n",
       "0             1000025                5                        1   \n",
       "1             1002945                5                        4   \n",
       "2             1015425                3                        1   \n",
       "3             1016277                6                        8   \n",
       "4             1017023                4                        1   \n",
       "5             1017122                8                       10   \n",
       "6             1018099                1                        1   \n",
       "7             1018561                2                        1   \n",
       "8             1033078                2                        1   \n",
       "9             1033078                4                        2   \n",
       "\n",
       "   Uniformity of Cell Shape  Marginal Adhesion  Single Epithelial Cell Size  \\\n",
       "0                         1                  1                            2   \n",
       "1                         4                  5                            7   \n",
       "2                         1                  1                            2   \n",
       "3                         8                  1                            3   \n",
       "4                         1                  3                            2   \n",
       "5                        10                  8                            7   \n",
       "6                         1                  1                            2   \n",
       "7                         2                  1                            2   \n",
       "8                         1                  1                            2   \n",
       "9                         1                  1                            2   \n",
       "\n",
       "  Bare Nuclei  Bland Chromatin  Normal Nucleoli  Mitoses  Class  \n",
       "0           1                3                1        1      2  \n",
       "1          10                3                2        1      2  \n",
       "2           2                3                1        1      2  \n",
       "3           4                3                7        1      2  \n",
       "4           1                3                1        1      2  \n",
       "5          10                9                7        1      4  \n",
       "6          10                3                1        1      2  \n",
       "7           1                3                1        1      2  \n",
       "8           1                1                1        5      2  \n",
       "9           1                2                1        1      2  "
      ]
     },
     "execution_count": 2,
     "metadata": {},
     "output_type": "execute_result"
    }
   ],
   "source": [
    "#importing the libraries\n",
    "import os\n",
    "import numpy as np\n",
    "import matplotlib.pyplot as plt\n",
    "import seaborn as sns\n",
    "import pandas as pd#importing our cancer dataset\n",
    "dataset = pd.read_csv(\"breast_cancer_bd.csv\")\n",
    "\n",
    "dataset.head(10)"
   ]
  },
  {
   "cell_type": "code",
   "execution_count": 3,
   "id": "0522a0f5",
   "metadata": {},
   "outputs": [
    {
     "data": {
      "text/plain": [
       "'C:\\\\Users\\\\rchaz'"
      ]
     },
     "execution_count": 3,
     "metadata": {},
     "output_type": "execute_result"
    }
   ],
   "source": [
    "os. getcwd()"
   ]
  },
  {
   "cell_type": "code",
   "execution_count": 4,
   "id": "0c9356c0",
   "metadata": {},
   "outputs": [
    {
     "data": {
      "image/png": "[encoded data removed]",
      "text/plain": [
       "<Figure size 432x288 with 1 Axes>"
      ]
     },
     "metadata": {},
     "output_type": "display_data"
    }
   ],
   "source": [
    "#types de variables\n",
    "##pourcentage de valeurs en fonction de chaque type d'objets et de valeurs manquantes\n",
    "dataset.dtypes.value_counts().plot.pie();"
   ]
  },
  {
   "cell_type": "code",
   "execution_count": 5,
   "id": "c9dd90d0",
   "metadata": {},
   "outputs": [
    {
     "data": {
      "text/plain": [
       "int64     10\n",
       "object     1\n",
       "dtype: int64"
      ]
     },
     "execution_count": 5,
     "metadata": {},
     "output_type": "execute_result"
    }
   ],
   "source": [
    "#nombre et type des variables\n",
    "\n",
    "dataset.dtypes.value_counts()"
   ]
  },
  {
   "cell_type": "code",
   "execution_count": 6,
   "id": "01fb1944",
   "metadata": {},
   "outputs": [],
   "source": [
    "#répartition de X et Y\n",
    "X = dataset.iloc[:, 1:-1]\n",
    "Y = dataset.iloc[:, -1]"
   ]
  },
  {
   "cell_type": "code",
   "execution_count": 7,
   "id": "a147c590",
   "metadata": {},
   "outputs": [
    {
     "data": {
      "text/html": [
       "<div>\n",
       "<style scoped>\n",
       "    .dataframe tbody tr th:only-of-type {\n",
       "        vertical-align: middle;\n",
       "    }\n",
       "\n",
       "    .dataframe tbody tr th {\n",
       "        vertical-align: top;\n",
       "    }\n",
       "\n",
       "    .dataframe thead th {\n",
       "        text-align: right;\n",
       "    }\n",
       "</style>\n",
       "<table border=\"1\" class=\"dataframe\">\n",
       "  <thead>\n",
       "    <tr style=\"text-align: right;\">\n",
       "      <th></th>\n",
       "      <th>Clump Thickness</th>\n",
       "      <th>Uniformity of Cell Size</th>\n",
       "      <th>Uniformity of Cell Shape</th>\n",
       "      <th>Marginal Adhesion</th>\n",
       "      <th>Single Epithelial Cell Size</th>\n",
       "      <th>Bare Nuclei</th>\n",
       "      <th>Bland Chromatin</th>\n",
       "      <th>Normal Nucleoli</th>\n",
       "      <th>Mitoses</th>\n",
       "    </tr>\n",
       "  </thead>\n",
       "  <tbody>\n",
       "    <tr>\n",
       "      <th>0</th>\n",
       "      <td>5</td>\n",
       "      <td>1</td>\n",
       "      <td>1</td>\n",
       "      <td>1</td>\n",
       "      <td>2</td>\n",
       "      <td>1</td>\n",
       "      <td>3</td>\n",
       "      <td>1</td>\n",
       "      <td>1</td>\n",
       "    </tr>\n",
       "    <tr>\n",
       "      <th>1</th>\n",
       "      <td>5</td>\n",
       "      <td>4</td>\n",
       "      <td>4</td>\n",
       "      <td>5</td>\n",
       "      <td>7</td>\n",
       "      <td>10</td>\n",
       "      <td>3</td>\n",
       "      <td>2</td>\n",
       "      <td>1</td>\n",
       "    </tr>\n",
       "    <tr>\n",
       "      <th>2</th>\n",
       "      <td>3</td>\n",
       "      <td>1</td>\n",
       "      <td>1</td>\n",
       "      <td>1</td>\n",
       "      <td>2</td>\n",
       "      <td>2</td>\n",
       "      <td>3</td>\n",
       "      <td>1</td>\n",
       "      <td>1</td>\n",
       "    </tr>\n",
       "    <tr>\n",
       "      <th>3</th>\n",
       "      <td>6</td>\n",
       "      <td>8</td>\n",
       "      <td>8</td>\n",
       "      <td>1</td>\n",
       "      <td>3</td>\n",
       "      <td>4</td>\n",
       "      <td>3</td>\n",
       "      <td>7</td>\n",
       "      <td>1</td>\n",
       "    </tr>\n",
       "    <tr>\n",
       "      <th>4</th>\n",
       "      <td>4</td>\n",
       "      <td>1</td>\n",
       "      <td>1</td>\n",
       "      <td>3</td>\n",
       "      <td>2</td>\n",
       "      <td>1</td>\n",
       "      <td>3</td>\n",
       "      <td>1</td>\n",
       "      <td>1</td>\n",
       "    </tr>\n",
       "    <tr>\n",
       "      <th>...</th>\n",
       "      <td>...</td>\n",
       "      <td>...</td>\n",
       "      <td>...</td>\n",
       "      <td>...</td>\n",
       "      <td>...</td>\n",
       "      <td>...</td>\n",
       "      <td>...</td>\n",
       "      <td>...</td>\n",
       "      <td>...</td>\n",
       "    </tr>\n",
       "    <tr>\n",
       "      <th>694</th>\n",
       "      <td>3</td>\n",
       "      <td>1</td>\n",
       "      <td>1</td>\n",
       "      <td>1</td>\n",
       "      <td>3</td>\n",
       "      <td>2</td>\n",
       "      <td>1</td>\n",
       "      <td>1</td>\n",
       "      <td>1</td>\n",
       "    </tr>\n",
       "    <tr>\n",
       "      <th>695</th>\n",
       "      <td>2</td>\n",
       "      <td>1</td>\n",
       "      <td>1</td>\n",
       "      <td>1</td>\n",
       "      <td>2</td>\n",
       "      <td>1</td>\n",
       "      <td>1</td>\n",
       "      <td>1</td>\n",
       "      <td>1</td>\n",
       "    </tr>\n",
       "    <tr>\n",
       "      <th>696</th>\n",
       "      <td>5</td>\n",
       "      <td>10</td>\n",
       "      <td>10</td>\n",
       "      <td>3</td>\n",
       "      <td>7</td>\n",
       "      <td>3</td>\n",
       "      <td>8</td>\n",
       "      <td>10</td>\n",
       "      <td>2</td>\n",
       "    </tr>\n",
       "    <tr>\n",
       "      <th>697</th>\n",
       "      <td>4</td>\n",
       "      <td>8</td>\n",
       "      <td>6</td>\n",
       "      <td>4</td>\n",
       "      <td>3</td>\n",
       "      <td>4</td>\n",
       "      <td>10</td>\n",
       "      <td>6</td>\n",
       "      <td>1</td>\n",
       "    </tr>\n",
       "    <tr>\n",
       "      <th>698</th>\n",
       "      <td>4</td>\n",
       "      <td>8</td>\n",
       "      <td>8</td>\n",
       "      <td>5</td>\n",
       "      <td>4</td>\n",
       "      <td>5</td>\n",
       "      <td>10</td>\n",
       "      <td>4</td>\n",
       "      <td>1</td>\n",
       "    </tr>\n",
       "  </tbody>\n",
       "</table>\n",
       "<p>699 rows × 9 columns</p>\n",
       "</div>"
      ],
      "text/plain": [
       "     Clump Thickness  Uniformity of Cell Size  Uniformity of Cell Shape  \\\n",
       "0                  5                        1                         1   \n",
       "1                  5                        4                         4   \n",
       "2                  3                        1                         1   \n",
       "3                  6                        8                         8   \n",
       "4                  4                        1                         1   \n",
       "..               ...                      ...                       ...   \n",
       "694                3                        1                         1   \n",
       "695                2                        1                         1   \n",
       "696                5                       10                        10   \n",
       "697                4                        8                         6   \n",
       "698                4                        8                         8   \n",
       "\n",
       "     Marginal Adhesion  Single Epithelial Cell Size Bare Nuclei  \\\n",
       "0                    1                            2           1   \n",
       "1                    5                            7          10   \n",
       "2                    1                            2           2   \n",
       "3                    1                            3           4   \n",
       "4                    3                            2           1   \n",
       "..                 ...                          ...         ...   \n",
       "694                  1                            3           2   \n",
       "695                  1                            2           1   \n",
       "696                  3                            7           3   \n",
       "697                  4                            3           4   \n",
       "698                  5                            4           5   \n",
       "\n",
       "     Bland Chromatin  Normal Nucleoli  Mitoses  \n",
       "0                  3                1        1  \n",
       "1                  3                2        1  \n",
       "2                  3                1        1  \n",
       "3                  3                7        1  \n",
       "4                  3                1        1  \n",
       "..               ...              ...      ...  \n",
       "694                1                1        1  \n",
       "695                1                1        1  \n",
       "696                8               10        2  \n",
       "697               10                6        1  \n",
       "698               10                4        1  \n",
       "\n",
       "[699 rows x 9 columns]"
      ]
     },
     "execution_count": 7,
     "metadata": {},
     "output_type": "execute_result"
    }
   ],
   "source": [
    "X"
   ]
  },
  {
   "cell_type": "code",
   "execution_count": 8,
   "id": "d922e3ea",
   "metadata": {},
   "outputs": [
    {
     "data": {
      "text/plain": [
       "0      2\n",
       "1      2\n",
       "2      2\n",
       "3      2\n",
       "4      2\n",
       "      ..\n",
       "694    2\n",
       "695    2\n",
       "696    4\n",
       "697    4\n",
       "698    4\n",
       "Name: Class, Length: 699, dtype: int64"
      ]
     },
     "execution_count": 8,
     "metadata": {},
     "output_type": "execute_result"
    }
   ],
   "source": [
    "Y"
   ]
  },
  {
   "cell_type": "code",
   "execution_count": 9,
   "id": "3f163256",
   "metadata": {},
   "outputs": [
    {
     "data": {
      "text/html": [
       "<div>\n",
       "<style scoped>\n",
       "    .dataframe tbody tr th:only-of-type {\n",
       "        vertical-align: middle;\n",
       "    }\n",
       "\n",
       "    .dataframe tbody tr th {\n",
       "        vertical-align: top;\n",
       "    }\n",
       "\n",
       "    .dataframe thead th {\n",
       "        text-align: right;\n",
       "    }\n",
       "</style>\n",
       "<table border=\"1\" class=\"dataframe\">\n",
       "  <thead>\n",
       "    <tr style=\"text-align: right;\">\n",
       "      <th></th>\n",
       "      <th>Sample code number</th>\n",
       "      <th>Clump Thickness</th>\n",
       "      <th>Uniformity of Cell Size</th>\n",
       "      <th>Uniformity of Cell Shape</th>\n",
       "      <th>Marginal Adhesion</th>\n",
       "      <th>Single Epithelial Cell Size</th>\n",
       "      <th>Bare Nuclei</th>\n",
       "      <th>Bland Chromatin</th>\n",
       "      <th>Normal Nucleoli</th>\n",
       "      <th>Mitoses</th>\n",
       "      <th>Class</th>\n",
       "    </tr>\n",
       "  </thead>\n",
       "  <tbody>\n",
       "    <tr>\n",
       "      <th>0</th>\n",
       "      <td>1000025</td>\n",
       "      <td>5</td>\n",
       "      <td>1</td>\n",
       "      <td>1</td>\n",
       "      <td>1</td>\n",
       "      <td>2</td>\n",
       "      <td>1</td>\n",
       "      <td>3</td>\n",
       "      <td>1</td>\n",
       "      <td>1</td>\n",
       "      <td>2</td>\n",
       "    </tr>\n",
       "    <tr>\n",
       "      <th>1</th>\n",
       "      <td>1002945</td>\n",
       "      <td>5</td>\n",
       "      <td>4</td>\n",
       "      <td>4</td>\n",
       "      <td>5</td>\n",
       "      <td>7</td>\n",
       "      <td>10</td>\n",
       "      <td>3</td>\n",
       "      <td>2</td>\n",
       "      <td>1</td>\n",
       "      <td>2</td>\n",
       "    </tr>\n",
       "    <tr>\n",
       "      <th>2</th>\n",
       "      <td>1015425</td>\n",
       "      <td>3</td>\n",
       "      <td>1</td>\n",
       "      <td>1</td>\n",
       "      <td>1</td>\n",
       "      <td>2</td>\n",
       "      <td>2</td>\n",
       "      <td>3</td>\n",
       "      <td>1</td>\n",
       "      <td>1</td>\n",
       "      <td>2</td>\n",
       "    </tr>\n",
       "    <tr>\n",
       "      <th>3</th>\n",
       "      <td>1016277</td>\n",
       "      <td>6</td>\n",
       "      <td>8</td>\n",
       "      <td>8</td>\n",
       "      <td>1</td>\n",
       "      <td>3</td>\n",
       "      <td>4</td>\n",
       "      <td>3</td>\n",
       "      <td>7</td>\n",
       "      <td>1</td>\n",
       "      <td>2</td>\n",
       "    </tr>\n",
       "    <tr>\n",
       "      <th>4</th>\n",
       "      <td>1017023</td>\n",
       "      <td>4</td>\n",
       "      <td>1</td>\n",
       "      <td>1</td>\n",
       "      <td>3</td>\n",
       "      <td>2</td>\n",
       "      <td>1</td>\n",
       "      <td>3</td>\n",
       "      <td>1</td>\n",
       "      <td>1</td>\n",
       "      <td>2</td>\n",
       "    </tr>\n",
       "  </tbody>\n",
       "</table>\n",
       "</div>"
      ],
      "text/plain": [
       "   Sample code number  Clump Thickness  Uniformity of Cell Size  \\\n",
       "0             1000025                5                        1   \n",
       "1             1002945                5                        4   \n",
       "2             1015425                3                        1   \n",
       "3             1016277                6                        8   \n",
       "4             1017023                4                        1   \n",
       "\n",
       "   Uniformity of Cell Shape  Marginal Adhesion  Single Epithelial Cell Size  \\\n",
       "0                         1                  1                            2   \n",
       "1                         4                  5                            7   \n",
       "2                         1                  1                            2   \n",
       "3                         8                  1                            3   \n",
       "4                         1                  3                            2   \n",
       "\n",
       "  Bare Nuclei  Bland Chromatin  Normal Nucleoli  Mitoses  Class  \n",
       "0           1                3                1        1      2  \n",
       "1          10                3                2        1      2  \n",
       "2           2                3                1        1      2  \n",
       "3           4                3                7        1      2  \n",
       "4           1                3                1        1      2  "
      ]
     },
     "execution_count": 9,
     "metadata": {},
     "output_type": "execute_result"
    }
   ],
   "source": [
    "dataset.head()"
   ]
  },
  {
   "cell_type": "code",
   "execution_count": 10,
   "id": "6b7aa0c7",
   "metadata": {},
   "outputs": [
    {
     "data": {
      "text/plain": [
       "(699, 11)"
      ]
     },
     "execution_count": 10,
     "metadata": {},
     "output_type": "execute_result"
    }
   ],
   "source": [
    "#shape\n",
    "dataset.shape"
   ]
  },
  {
   "cell_type": "code",
   "execution_count": 11,
   "id": "15231ad5",
   "metadata": {},
   "outputs": [],
   "source": [
    "#699 individus, 10 variables, 11 cible (class). On va pouvoir prédire."
   ]
  },
  {
   "cell_type": "code",
   "execution_count": 12,
   "id": "b432e956",
   "metadata": {},
   "outputs": [
    {
     "data": {
      "text/plain": [
       "Sample code number             0\n",
       "Clump Thickness                0\n",
       "Uniformity of Cell Size        0\n",
       "Uniformity of Cell Shape       0\n",
       "Marginal Adhesion              0\n",
       "Single Epithelial Cell Size    0\n",
       "Bare Nuclei                    0\n",
       "Bland Chromatin                0\n",
       "Normal Nucleoli                0\n",
       "Mitoses                        0\n",
       "Class                          0\n",
       "dtype: int64"
      ]
     },
     "execution_count": 12,
     "metadata": {},
     "output_type": "execute_result"
    }
   ],
   "source": [
    "#les nuls et les nans \n",
    "dataset.isnull().sum()\n",
    "dataset.isna().sum()"
   ]
  },
  {
   "cell_type": "code",
   "execution_count": 13,
   "id": "72fb5c67",
   "metadata": {},
   "outputs": [
    {
     "name": "stdout",
     "output_type": "stream",
     "text": [
      "Sample code number             False\n",
      "Clump Thickness                False\n",
      "Uniformity of Cell Size        False\n",
      "Uniformity of Cell Shape       False\n",
      "Marginal Adhesion              False\n",
      "Single Epithelial Cell Size    False\n",
      "Bare Nuclei                    False\n",
      "Bland Chromatin                False\n",
      "Normal Nucleoli                False\n",
      "Mitoses                        False\n",
      "Class                          False\n",
      "dtype: bool\n"
     ]
    }
   ],
   "source": [
    "#traquons les valeurs infinies\n",
    "# Recherchez les valeurs infinies dans le DataFrame\n",
    "infinite_values = dataset.isin([np.inf, -np.inf]).any()\n",
    "\n",
    "# Affichez les colonnes contenant des valeurs infinies\n",
    "print(infinite_values)"
   ]
  },
  {
   "cell_type": "code",
   "execution_count": 14,
   "id": "b52bd82c",
   "metadata": {},
   "outputs": [],
   "source": [
    "#acune null et aucune nan, et aucune valeur infinie"
   ]
  },
  {
   "cell_type": "code",
   "execution_count": 15,
   "id": "67c1c658",
   "metadata": {},
   "outputs": [
    {
     "data": {
      "image/png": "[encoded data removed]",
      "text/plain": [
       "<Figure size 432x288 with 1 Axes>"
      ]
     },
     "metadata": {
      "needs_background": "light"
     },
     "output_type": "display_data"
    },
    {
     "data": {
      "image/png": "[encoded data removed]",
      "text/plain": [
       "<Figure size 432x288 with 1 Axes>"
      ]
     },
     "metadata": {
      "needs_background": "light"
     },
     "output_type": "display_data"
    },
    {
     "data": {
      "image/png": "[encoded data removed]",
      "text/plain": [
       "<Figure size 432x288 with 1 Axes>"
      ]
     },
     "metadata": {
      "needs_background": "light"
     },
     "output_type": "display_data"
    },
    {
     "data": {
      "image/png": "[encoded data removed]",
      "text/plain": [
       "<Figure size 432x288 with 1 Axes>"
      ]
     },
     "metadata": {
      "needs_background": "light"
     },
     "output_type": "display_data"
    },
    {
     "data": {
      "image/png": "[encoded data removed]",
      "text/plain": [
       "<Figure size 432x288 with 1 Axes>"
      ]
     },
     "metadata": {
      "needs_background": "light"
     },
     "output_type": "display_data"
    },
    {
     "data": {
      "image/png": "[encoded data removed]",
      "text/plain": [
       "<Figure size 432x288 with 1 Axes>"
      ]
     },
     "metadata": {
      "needs_background": "light"
     },
     "output_type": "display_data"
    },
    {
     "data": {
      "image/png": "[encoded data removed]",
      "text/plain": [
       "<Figure size 432x288 with 1 Axes>"
      ]
     },
     "metadata": {
      "needs_background": "light"
     },
     "output_type": "display_data"
    },
    {
     "data": {
      "image/png": "[encoded data removed]",
      "text/plain": [
       "<Figure size 432x288 with 1 Axes>"
      ]
     },
     "metadata": {
      "needs_background": "light"
     },
     "output_type": "display_data"
    },
    {
     "data": {
      "image/png": "[encoded data removed]",
      "text/plain": [
       "<Figure size 432x288 with 1 Axes>"
      ]
     },
     "metadata": {
      "needs_background": "light"
     },
     "output_type": "display_data"
    },
    {
     "data": {
      "image/png": "[encoded data removed]",
      "text/plain": [
       "<Figure size 432x288 with 1 Axes>"
      ]
     },
     "metadata": {
      "needs_background": "light"
     },
     "output_type": "display_data"
    },
    {
     "data": {
      "image/png": "[encoded data removed]",
      "text/plain": [
       "<Figure size 432x288 with 1 Axes>"
      ]
     },
     "metadata": {
      "needs_background": "light"
     },
     "output_type": "display_data"
    }
   ],
   "source": [
    "#analyse de la distribution des variables\n",
    "import seaborn as sns\n",
    "\n",
    "# Parcours de chaque colonne du DataFrame\n",
    "for column in dataset.columns:\n",
    "    # Créez un histogramme pour la variable\n",
    "    sns.histplot(dataset[column], kde=True)  # Utilisez kde=True pour ajouter une estimation de la densité\n",
    "    plt.title(f'Histogramme de {column}')\n",
    "    plt.xlabel(column)\n",
    "    plt.ylabel('valeur')\n",
    "    plt.show()  # Affichez l'histogramme\n"
   ]
  },
  {
   "cell_type": "code",
   "execution_count": 58,
   "id": "e5107bcc",
   "metadata": {},
   "outputs": [
    {
     "name": "stdout",
     "output_type": "stream",
     "text": [
      "Class                          100.000000\n",
      "Uniformity of Cell Shape        81.893374\n",
      "Uniformity of Cell Size         81.790374\n",
      "Bland Chromatin                 75.661615\n",
      "Clump Thickness                 71.600136\n",
      "Normal Nucleoli                 71.224362\n",
      "Marginal Adhesion               69.680021\n",
      "Single Epithelial Cell Size     68.278453\n",
      "Mitoses                         42.317026\n",
      "Sample code number               8.022565\n",
      "Name: Class, dtype: float64\n"
     ]
    },
    {
     "data": {
      "image/png": "[encoded data removed]",
      "text/plain": [
       "<Figure size 1490.4x1171.44 with 2 Axes>"
      ]
     },
     "metadata": {},
     "output_type": "display_data"
    }
   ],
   "source": [
    "#matrice de corrélation\n",
    "\n",
    "#matrice de corrélation en \"heatmap\" :\n",
    "Var_Corr = dataset.corr()\n",
    "sns.set(rc={'figure.figsize':(20.7,16.27)})\n",
    "sns.heatmap(Var_Corr, xticklabels=Var_Corr.columns, yticklabels=Var_Corr.columns, annot=True)\n",
    "\n",
    "#Affichage en valeur absolue pour filtrer les variables < 5% par ordre d'importance de\n",
    "#corrélation (positive ou négative) à la variable cible.\n",
    "print(100*abs(Var_Corr['Class']).sort_values(ascending = False))"
   ]
  },
  {
   "cell_type": "code",
   "execution_count": null,
   "id": "f9505d95",
   "metadata": {},
   "outputs": [],
   "source": [
    "#on voirt que mitose est faiblement corrélée avec toutes les autres variables ainsi que la cible.\n",
    "#pour le moment nous allons garder cette variable."
   ]
  },
  {
   "cell_type": "code",
   "execution_count": 16,
   "id": "9da8f265",
   "metadata": {},
   "outputs": [],
   "source": [
    "#beaucoup de variables semblent etre distribuées selon deux modes, ce qui correspond à la distribution de la cible : 2 ou 4.\n",
    "#si on se fie aux variables mitose, uniformity, adhereance, size, la classe 2 est la classe cancérigène, \n",
    "# la classe 4 est la classe normale."
   ]
  },
  {
   "cell_type": "code",
   "execution_count": 17,
   "id": "e20762c5",
   "metadata": {},
   "outputs": [],
   "source": [
    "#Encoding categorical data values\n",
    "from sklearn.preprocessing import LabelEncoder\n",
    "labelencoder_Y = LabelEncoder()\n",
    "Y = labelencoder_Y.fit_transform(Y)"
   ]
  },
  {
   "cell_type": "code",
   "execution_count": 18,
   "id": "98e4a153",
   "metadata": {},
   "outputs": [
    {
     "data": {
      "text/plain": [
       "array([0, 0, 0, 0, 0, 1, 0, 0, 0, 0, 0, 0, 1, 0, 1, 1, 0, 0, 1, 0, 1, 1,\n",
       "       0, 1, 0, 1, 0, 0, 0, 0, 0, 0, 1, 0, 0, 0, 1, 0, 1, 1, 0, 1, 1, 1,\n",
       "       1, 0, 1, 0, 0, 1, 1, 1, 1, 1, 1, 1, 1, 1, 1, 1, 1, 0, 1, 1, 0, 1,\n",
       "       0, 1, 1, 0, 0, 1, 0, 1, 1, 0, 0, 0, 0, 0, 0, 0, 0, 0, 1, 1, 1, 1,\n",
       "       0, 0, 0, 0, 0, 0, 0, 0, 0, 0, 1, 1, 1, 1, 0, 1, 1, 1, 1, 1, 0, 1,\n",
       "       0, 1, 1, 1, 0, 0, 0, 1, 0, 0, 0, 0, 1, 1, 1, 0, 1, 0, 1, 0, 0, 0,\n",
       "       1, 0, 0, 0, 0, 0, 0, 0, 0, 0, 1, 0, 0, 0, 1, 0, 0, 1, 0, 1, 1, 0,\n",
       "       0, 1, 0, 0, 0, 1, 1, 0, 0, 0, 0, 0, 1, 1, 0, 0, 0, 0, 0, 1, 1, 1,\n",
       "       0, 1, 0, 1, 0, 0, 0, 1, 1, 0, 1, 1, 1, 0, 1, 1, 0, 0, 0, 0, 0, 0,\n",
       "       0, 0, 1, 1, 0, 0, 0, 1, 1, 0, 0, 0, 1, 1, 0, 1, 1, 1, 0, 0, 1, 0,\n",
       "       0, 1, 1, 1, 1, 0, 1, 1, 0, 1, 1, 1, 0, 1, 0, 0, 1, 1, 1, 1, 0, 0,\n",
       "       0, 0, 0, 0, 1, 1, 0, 0, 0, 1, 0, 1, 1, 1, 0, 0, 0, 0, 1, 1, 1, 1,\n",
       "       1, 0, 1, 1, 1, 0, 1, 0, 1, 1, 0, 0, 0, 0, 0, 1, 0, 0, 1, 1, 1, 1,\n",
       "       1, 0, 1, 1, 0, 0, 1, 1, 0, 1, 0, 0, 0, 1, 1, 0, 1, 0, 1, 1, 0, 0,\n",
       "       1, 0, 0, 0, 1, 0, 0, 0, 1, 1, 0, 0, 1, 0, 0, 1, 0, 0, 1, 0, 1, 1,\n",
       "       1, 0, 0, 1, 1, 0, 1, 0, 0, 1, 1, 0, 0, 0, 1, 0, 0, 0, 1, 1, 0, 0,\n",
       "       0, 1, 0, 0, 1, 1, 1, 1, 1, 1, 0, 0, 0, 0, 1, 1, 0, 0, 0, 0, 0, 0,\n",
       "       0, 0, 0, 0, 0, 0, 0, 1, 0, 0, 0, 0, 1, 0, 0, 0, 0, 1, 0, 0, 0, 0,\n",
       "       0, 0, 0, 0, 1, 0, 0, 0, 0, 0, 0, 0, 0, 0, 0, 0, 1, 0, 1, 0, 1, 0,\n",
       "       0, 0, 0, 1, 0, 0, 0, 1, 0, 1, 0, 0, 0, 0, 0, 0, 0, 1, 1, 0, 0, 0,\n",
       "       1, 0, 0, 0, 0, 0, 0, 0, 0, 1, 0, 0, 0, 1, 0, 1, 1, 1, 0, 0, 0, 0,\n",
       "       0, 0, 0, 1, 1, 1, 0, 0, 0, 0, 0, 0, 0, 0, 0, 0, 0, 1, 0, 0, 1, 1,\n",
       "       0, 0, 0, 1, 1, 1, 0, 1, 0, 1, 0, 0, 0, 0, 0, 0, 0, 0, 0, 0, 0, 0,\n",
       "       1, 0, 0, 0, 0, 0, 0, 0, 1, 1, 0, 0, 0, 1, 0, 0, 1, 1, 0, 0, 0, 0,\n",
       "       0, 0, 1, 0, 0, 0, 0, 0, 0, 0, 0, 0, 0, 0, 0, 0, 0, 0, 1, 0, 0, 1,\n",
       "       0, 0, 0, 0, 0, 0, 0, 0, 0, 0, 0, 0, 0, 0, 0, 1, 0, 0, 1, 1, 1, 1,\n",
       "       0, 0, 1, 0, 0, 0, 0, 0, 0, 1, 1, 0, 0, 0, 1, 0, 1, 0, 1, 1, 1, 0,\n",
       "       1, 0, 0, 0, 0, 0, 0, 0, 0, 1, 1, 1, 0, 0, 1, 0, 1, 1, 1, 0, 0, 0,\n",
       "       0, 0, 0, 0, 0, 0, 0, 0, 0, 0, 1, 0, 0, 0, 0, 0, 0, 1, 0, 0, 1, 0,\n",
       "       0, 0, 0, 0, 0, 0, 0, 0, 0, 0, 1, 0, 0, 0, 0, 0, 0, 0, 0, 0, 1, 0,\n",
       "       0, 0, 0, 0, 0, 0, 0, 0, 1, 1, 1, 0, 0, 0, 0, 0, 0, 0, 0, 0, 1, 1,\n",
       "       0, 0, 0, 0, 0, 0, 0, 0, 0, 1, 0, 0, 0, 0, 1, 1, 1], dtype=int64)"
      ]
     },
     "execution_count": 18,
     "metadata": {},
     "output_type": "execute_result"
    }
   ],
   "source": [
    "Y"
   ]
  },
  {
   "cell_type": "code",
   "execution_count": 19,
   "id": "d0d45d27",
   "metadata": {},
   "outputs": [
    {
     "data": {
      "image/png": "[encoded data removed]",
      "text/plain": [
       "<Figure size 432x288 with 1 Axes>"
      ]
     },
     "metadata": {},
     "output_type": "display_data"
    }
   ],
   "source": [
    "#types de variables\n",
    "##pourcentage de valeurs en fonction de chaque type d'objets et de valeurs manquantes\n",
    "X.dtypes.value_counts().plot.pie();"
   ]
  },
  {
   "cell_type": "code",
   "execution_count": 20,
   "id": "404d0ca9",
   "metadata": {},
   "outputs": [
    {
     "data": {
      "text/plain": [
       "Clump Thickness                 int64\n",
       "Uniformity of Cell Size         int64\n",
       "Uniformity of Cell Shape        int64\n",
       "Marginal Adhesion               int64\n",
       "Single Epithelial Cell Size     int64\n",
       "Bare Nuclei                    object\n",
       "Bland Chromatin                 int64\n",
       "Normal Nucleoli                 int64\n",
       "Mitoses                         int64\n",
       "dtype: object"
      ]
     },
     "execution_count": 20,
     "metadata": {},
     "output_type": "execute_result"
    }
   ],
   "source": [
    "X.dtypes"
   ]
  },
  {
   "cell_type": "code",
   "execution_count": 21,
   "id": "af54d4d2",
   "metadata": {},
   "outputs": [],
   "source": [
    "#X['Bare Nuclei'] = X['Bare Nuclei'].astype(str).astype(int)\n",
    "\n",
    "#toutes les tentatives pour convertir bate Nuclei column échouent. Je vais la virer.\n",
    "X = X.drop(['Bare Nuclei'], axis=1)"
   ]
  },
  {
   "cell_type": "code",
   "execution_count": 22,
   "id": "48f0736c",
   "metadata": {},
   "outputs": [
    {
     "data": {
      "text/html": [
       "<div>\n",
       "<style scoped>\n",
       "    .dataframe tbody tr th:only-of-type {\n",
       "        vertical-align: middle;\n",
       "    }\n",
       "\n",
       "    .dataframe tbody tr th {\n",
       "        vertical-align: top;\n",
       "    }\n",
       "\n",
       "    .dataframe thead th {\n",
       "        text-align: right;\n",
       "    }\n",
       "</style>\n",
       "<table border=\"1\" class=\"dataframe\">\n",
       "  <thead>\n",
       "    <tr style=\"text-align: right;\">\n",
       "      <th></th>\n",
       "      <th>Clump Thickness</th>\n",
       "      <th>Uniformity of Cell Size</th>\n",
       "      <th>Uniformity of Cell Shape</th>\n",
       "      <th>Marginal Adhesion</th>\n",
       "      <th>Single Epithelial Cell Size</th>\n",
       "      <th>Bland Chromatin</th>\n",
       "      <th>Normal Nucleoli</th>\n",
       "      <th>Mitoses</th>\n",
       "    </tr>\n",
       "  </thead>\n",
       "  <tbody>\n",
       "    <tr>\n",
       "      <th>0</th>\n",
       "      <td>5</td>\n",
       "      <td>1</td>\n",
       "      <td>1</td>\n",
       "      <td>1</td>\n",
       "      <td>2</td>\n",
       "      <td>3</td>\n",
       "      <td>1</td>\n",
       "      <td>1</td>\n",
       "    </tr>\n",
       "    <tr>\n",
       "      <th>1</th>\n",
       "      <td>5</td>\n",
       "      <td>4</td>\n",
       "      <td>4</td>\n",
       "      <td>5</td>\n",
       "      <td>7</td>\n",
       "      <td>3</td>\n",
       "      <td>2</td>\n",
       "      <td>1</td>\n",
       "    </tr>\n",
       "    <tr>\n",
       "      <th>2</th>\n",
       "      <td>3</td>\n",
       "      <td>1</td>\n",
       "      <td>1</td>\n",
       "      <td>1</td>\n",
       "      <td>2</td>\n",
       "      <td>3</td>\n",
       "      <td>1</td>\n",
       "      <td>1</td>\n",
       "    </tr>\n",
       "    <tr>\n",
       "      <th>3</th>\n",
       "      <td>6</td>\n",
       "      <td>8</td>\n",
       "      <td>8</td>\n",
       "      <td>1</td>\n",
       "      <td>3</td>\n",
       "      <td>3</td>\n",
       "      <td>7</td>\n",
       "      <td>1</td>\n",
       "    </tr>\n",
       "    <tr>\n",
       "      <th>4</th>\n",
       "      <td>4</td>\n",
       "      <td>1</td>\n",
       "      <td>1</td>\n",
       "      <td>3</td>\n",
       "      <td>2</td>\n",
       "      <td>3</td>\n",
       "      <td>1</td>\n",
       "      <td>1</td>\n",
       "    </tr>\n",
       "  </tbody>\n",
       "</table>\n",
       "</div>"
      ],
      "text/plain": [
       "   Clump Thickness  Uniformity of Cell Size  Uniformity of Cell Shape  \\\n",
       "0                5                        1                         1   \n",
       "1                5                        4                         4   \n",
       "2                3                        1                         1   \n",
       "3                6                        8                         8   \n",
       "4                4                        1                         1   \n",
       "\n",
       "   Marginal Adhesion  Single Epithelial Cell Size  Bland Chromatin  \\\n",
       "0                  1                            2                3   \n",
       "1                  5                            7                3   \n",
       "2                  1                            2                3   \n",
       "3                  1                            3                3   \n",
       "4                  3                            2                3   \n",
       "\n",
       "   Normal Nucleoli  Mitoses  \n",
       "0                1        1  \n",
       "1                2        1  \n",
       "2                1        1  \n",
       "3                7        1  \n",
       "4                1        1  "
      ]
     },
     "execution_count": 22,
     "metadata": {},
     "output_type": "execute_result"
    }
   ],
   "source": [
    "#nombre et type des variables\n",
    "\n",
    "X.head()"
   ]
  },
  {
   "cell_type": "code",
   "execution_count": 23,
   "id": "01f1a5ab",
   "metadata": {},
   "outputs": [],
   "source": [
    "# Splitting the dataset into the Training set and Test set\n",
    "from sklearn.model_selection import train_test_split\n",
    "\n",
    "X_train, X_test, Y_train, Y_test = train_test_split(X, Y, test_size = 0.25, random_state = 0)"
   ]
  },
  {
   "cell_type": "code",
   "execution_count": 24,
   "id": "a758b6ba",
   "metadata": {},
   "outputs": [
    {
     "data": {
      "text/plain": [
       "int64    8\n",
       "dtype: int64"
      ]
     },
     "execution_count": 24,
     "metadata": {},
     "output_type": "execute_result"
    }
   ],
   "source": [
    "#nombre et type des variables\n",
    "X_train_df = pd.DataFrame(X_train)\n",
    "X_train_df.dtypes.value_counts()"
   ]
  },
  {
   "cell_type": "code",
   "execution_count": 25,
   "id": "110d5b55",
   "metadata": {},
   "outputs": [],
   "source": [
    "#Feature Scaling\n",
    "from sklearn.preprocessing import StandardScaler\n",
    "\n",
    "sc = StandardScaler()\n",
    "X_train = sc.fit_transform(X_train)\n",
    "X_test = sc.transform(X_test)"
   ]
  },
  {
   "cell_type": "code",
   "execution_count": 26,
   "id": "a5333f5d",
   "metadata": {},
   "outputs": [],
   "source": [
    "### ML\n",
    "#nous testerons plusieurs algos de classification, et retriendrons le meilleur"
   ]
  },
  {
   "cell_type": "code",
   "execution_count": 27,
   "id": "20bbcaf6",
   "metadata": {},
   "outputs": [
    {
     "name": "stdout",
     "output_type": "stream",
     "text": [
      "acc_train :  0.9618320610687023 acc_test : 0.9428571428571428\n",
      "F1score_train :  0.9575742854829569 F1score_test :  0.937553525549529\n",
      "Classe prédite    0   1\n",
      "Classe réelle          \n",
      "0               108   4\n",
      "1                 6  57\n"
     ]
    }
   ],
   "source": [
    "#Using Logistic Regression Algorithm\n",
    "from sklearn.linear_model import LogisticRegression\n",
    "from sklearn.metrics import accuracy_score\n",
    "from sklearn.metrics import f1_score\n",
    "\n",
    "#vu que nous allons utiliser des algos avec des hyperparamètres différents, \n",
    "# nous ne pouvons pas systématiser sous la forme d'une boucle\n",
    "\n",
    "#fit\n",
    "classifier = LogisticRegression(random_state = 0)\n",
    "classifier.fit(X_train, Y_train)\n",
    "\n",
    "#predire\n",
    "Y_pred_train_logreg = classifier.predict(X_train)\n",
    "Y_pred_test_logreg = classifier.predict(X_test)\n",
    "\n",
    "\n",
    "#obtenir l'accuracy\n",
    "acc_train_logreg = accuracy_score(Y_train, Y_pred_train_logreg)\n",
    "acc_test_logreg = accuracy_score(Y_test, Y_pred_test_logreg)\n",
    "\n",
    "#obtenir le F1 score\n",
    "f1score_train_logreg = f1_score(Y_train, Y_pred_train_logreg, average='macro')\n",
    "f1score_test_logreg = f1_score(Y_test, Y_pred_test_logreg, average='macro')\n",
    "\n",
    "#afficher l'accuracy et F1 score\n",
    "print(\"acc_train : \", acc_train_logreg, \"acc_test :\", acc_test_logreg)\n",
    "print(\"F1score_train : \", f1score_train_logreg, \"F1score_test : \", f1score_test_logreg)\n",
    "\n",
    "#Afficher une matrice de confusion pour comparer les classes réelles et prédites.\n",
    "#pd.crosstab(y_test, y_pred, rownames=['Classe réelle'], colnames=['Classe prédite'])\n",
    "\n",
    "#matrice de confusion\n",
    "print(pd.crosstab(Y_test, Y_pred_test_logreg, rownames=['Classe réelle'], colnames=['Classe prédite']))\n",
    "\n",
    "\n"
   ]
  },
  {
   "cell_type": "code",
   "execution_count": 28,
   "id": "1f39f2f1",
   "metadata": {},
   "outputs": [
    {
     "name": "stdout",
     "output_type": "stream",
     "text": [
      "acc_train :  0.9713740458015268 acc_test : 0.9428571428571428\n",
      "F1score_train :  0.9683899378657175 F1score_test :  0.9379960317460317\n",
      "Classe prédite    0   1\n",
      "Classe réelle          \n",
      "0               107   5\n",
      "1                 5  58\n"
     ]
    }
   ],
   "source": [
    "#Using KNN classification\n",
    "from sklearn.neighbors import KNeighborsClassifier\n",
    "\n",
    "\n",
    "#vu que nous allons utiliser des algos avec des hyperparamètres différents, \n",
    "# nous ne pouvons pas systématiser sous la forme d'une boucle\n",
    "\n",
    "#fit\n",
    "classifier = KNeighborsClassifier(n_neighbors = 5, metric = 'minkowski', p = 2)\n",
    "classifier.fit(X_train, Y_train)\n",
    "\n",
    "#predire\n",
    "Y_pred_train_KNN = classifier.predict(X_train)\n",
    "Y_pred_test_KNN = classifier.predict(X_test)\n",
    "\n",
    "\n",
    "#obtenir l'accuracy\n",
    "acc_train_KNN = accuracy_score(Y_train, Y_pred_train_KNN)\n",
    "acc_test_KNN = accuracy_score(Y_test, Y_pred_test_KNN)\n",
    "\n",
    "#obtenir le F1 score\n",
    "f1score_train_KNN = f1_score(Y_train, Y_pred_train_KNN, average='macro')\n",
    "f1score_test_KNN = f1_score(Y_test, Y_pred_test_KNN, average='macro')\n",
    "\n",
    "#afficher l'accuracy et F1 score\n",
    "print(\"acc_train : \", acc_train_KNN, \"acc_test :\", acc_test_KNN)\n",
    "print(\"F1score_train : \", f1score_train_KNN, \"F1score_test : \", f1score_test_KNN)\n",
    "\n",
    "#Afficher une matrice de confusion pour comparer les classes réelles et prédites.\n",
    "#pd.crosstab(y_test, y_pred, rownames=['Classe réelle'], colnames=['Classe prédite'])\n",
    "\n",
    "#matrice de confusion\n",
    "print(pd.crosstab(Y_test, Y_pred_test_KNN, rownames=['Classe réelle'], colnames=['Classe prédite']))\n",
    "\n",
    "\n"
   ]
  },
  {
   "cell_type": "code",
   "execution_count": 29,
   "id": "9bd698ce",
   "metadata": {},
   "outputs": [
    {
     "name": "stdout",
     "output_type": "stream",
     "text": [
      "acc_train :  0.9599236641221374 acc_test : 0.9542857142857143\n",
      "F1score_train :  0.9555126116328618 F1score_test :  0.9503968253968254\n",
      "Classe prédite    0   1\n",
      "Classe réelle          \n",
      "0               108   4\n",
      "1                 4  59\n"
     ]
    }
   ],
   "source": [
    "#Using SVC Algorithm \n",
    "from sklearn.svm import SVC\n",
    "\n",
    "classifier = SVC(kernel = 'linear', random_state = 0)\n",
    "classifier.fit(X_train, Y_train)\n",
    "\n",
    "#predire\n",
    "Y_pred_train_SVC = classifier.predict(X_train)\n",
    "Y_pred_test_SVC = classifier.predict(X_test)\n",
    "\n",
    "\n",
    "#obtenir l'accuracy\n",
    "acc_train_SVC = accuracy_score(Y_train, Y_pred_train_SVC)\n",
    "acc_test_SVC = accuracy_score(Y_test, Y_pred_test_SVC)\n",
    "\n",
    "#obtenir le F1 score\n",
    "f1score_train_SVC = f1_score(Y_train, Y_pred_train_SVC, average='macro')\n",
    "f1score_test_SVC = f1_score(Y_test, Y_pred_test_SVC, average='macro')\n",
    "\n",
    "#afficher l'accuracy et F1 score\n",
    "print(\"acc_train : \", acc_train_SVC, \"acc_test :\", acc_test_SVC)\n",
    "print(\"F1score_train : \", f1score_train_SVC, \"F1score_test : \", f1score_test_SVC)\n",
    "\n",
    "#Afficher une matrice de confusion pour comparer les classes réelles et prédites.\n",
    "#pd.crosstab(y_test, y_pred, rownames=['Classe réelle'], colnames=['Classe prédite'])\n",
    "\n",
    "#matrice de confusion\n",
    "print(pd.crosstab(Y_test, Y_pred_test_SVC, rownames=['Classe réelle'], colnames=['Classe prédite']))\n",
    "\n"
   ]
  },
  {
   "cell_type": "code",
   "execution_count": 30,
   "id": "7ea39336",
   "metadata": {},
   "outputs": [
    {
     "name": "stdout",
     "output_type": "stream",
     "text": [
      "acc_train :  0.9675572519083969 acc_test : 0.96\n",
      "F1score_train :  0.9641752629144799 F1score_test :  0.9567458776173158\n",
      "Classe prédite    0   1\n",
      "Classe réelle          \n",
      "0               108   4\n",
      "1                 3  60\n"
     ]
    }
   ],
   "source": [
    "#Using SVC rbf kernel\n",
    "from sklearn.svm import SVC\n",
    "\n",
    "classifier = SVC(kernel = 'rbf', random_state = 0)\n",
    "classifier.fit(X_train, Y_train)\n",
    "\n",
    "#predire\n",
    "Y_pred_train_SVCrbf = classifier.predict(X_train)\n",
    "Y_pred_test_SVCrbf = classifier.predict(X_test)\n",
    "\n",
    "\n",
    "#obtenir l'accuracy\n",
    "acc_train_SVCrbf = accuracy_score(Y_train, Y_pred_train_SVCrbf)\n",
    "acc_test_SVCrbf = accuracy_score(Y_test, Y_pred_test_SVCrbf)\n",
    "\n",
    "#obtenir le F1 score\n",
    "f1score_train_SVCrbf = f1_score(Y_train, Y_pred_train_SVCrbf, average='macro')\n",
    "f1score_test_SVCrbf = f1_score(Y_test, Y_pred_test_SVCrbf, average='macro')\n",
    "\n",
    "#afficher l'accuracy et F1 score\n",
    "print(\"acc_train : \", acc_train_SVCrbf, \"acc_test :\", acc_test_SVCrbf)\n",
    "print(\"F1score_train : \", f1score_train_SVCrbf, \"F1score_test : \", f1score_test_SVCrbf)\n",
    "\n",
    "#Afficher une matrice de confusion pour comparer les classes réelles et prédites.\n",
    "#pd.crosstab(y_test, y_pred, rownames=['Classe réelle'], colnames=['Classe prédite'])\n",
    "\n",
    "#matrice de confusion\n",
    "print(pd.crosstab(Y_test, Y_pred_test_SVCrbf, rownames=['Classe réelle'], colnames=['Classe prédite']))\n",
    "\n"
   ]
  },
  {
   "cell_type": "code",
   "execution_count": 31,
   "id": "16a3695a",
   "metadata": {},
   "outputs": [
    {
     "name": "stdout",
     "output_type": "stream",
     "text": [
      "acc_train :  0.9599236641221374 acc_test : 0.9428571428571428\n",
      "F1score_train :  0.9559711435739235 F1score_test :  0.9384149774774774\n",
      "Classe prédite    0   1\n",
      "Classe réelle          \n",
      "0               106   6\n",
      "1                 4  59\n"
     ]
    }
   ],
   "source": [
    "from sklearn.naive_bayes import GaussianNB\n",
    "classifier = GaussianNB()\n",
    "classifier.fit(X_train, Y_train)\n",
    "\n",
    "#predire\n",
    "Y_pred_train_gauss = classifier.predict(X_train)\n",
    "Y_pred_test_gauss = classifier.predict(X_test)\n",
    "\n",
    "\n",
    "#obtenir l'accuracy\n",
    "acc_train_gauss = accuracy_score(Y_train, Y_pred_train_gauss)\n",
    "acc_test_gauss = accuracy_score(Y_test, Y_pred_test_gauss)\n",
    "\n",
    "#obtenir le F1 score\n",
    "f1score_train_gauss = f1_score(Y_train, Y_pred_train_gauss, average='macro')\n",
    "f1score_test_gauss = f1_score(Y_test, Y_pred_test_gauss, average='macro')\n",
    "\n",
    "#afficher l'accuracy et F1 score\n",
    "print(\"acc_train : \", acc_train_gauss, \"acc_test :\", acc_test_gauss)\n",
    "print(\"F1score_train : \", f1score_train_gauss, \"F1score_test : \", f1score_test_gauss)\n",
    "\n",
    "#Afficher une matrice de confusion pour comparer les classes réelles et prédites.\n",
    "#pd.crosstab(y_test, y_pred, rownames=['Classe réelle'], colnames=['Classe prédite'])\n",
    "\n",
    "#matrice de confusion\n",
    "print(pd.crosstab(Y_test, Y_pred_test_gauss, rownames=['Classe réelle'], colnames=['Classe prédite']))\n",
    "\n"
   ]
  },
  {
   "cell_type": "code",
   "execution_count": 32,
   "id": "cc8955b7",
   "metadata": {},
   "outputs": [
    {
     "name": "stdout",
     "output_type": "stream",
     "text": [
      "acc_train :  1.0 acc_test : 0.9028571428571428\n",
      "F1score_train :  1.0 F1score_test :  0.8942222222222223\n",
      "Classe prédite    0   1\n",
      "Classe réelle          \n",
      "0               104   8\n",
      "1                 9  54\n"
     ]
    }
   ],
   "source": [
    "from sklearn.tree import DecisionTreeClassifier\n",
    "classifier = DecisionTreeClassifier(criterion = 'entropy', random_state = 0)\n",
    "classifier.fit(X_train, Y_train)\n",
    "\n",
    "#predire\n",
    "Y_pred_train_tree = classifier.predict(X_train)\n",
    "Y_pred_test_tree = classifier.predict(X_test)\n",
    "\n",
    "\n",
    "#obtenir l'accuracy\n",
    "acc_train_tree = accuracy_score(Y_train, Y_pred_train_tree)\n",
    "acc_test_tree = accuracy_score(Y_test, Y_pred_test_tree)\n",
    "\n",
    "#obtenir le F1 score\n",
    "f1score_train_tree = f1_score(Y_train, Y_pred_train_tree, average='macro')\n",
    "f1score_test_tree = f1_score(Y_test, Y_pred_test_tree, average='macro')\n",
    "\n",
    "#afficher l'accuracy et F1 score\n",
    "print(\"acc_train : \", acc_train_tree, \"acc_test :\", acc_test_tree)\n",
    "print(\"F1score_train : \", f1score_train_tree, \"F1score_test : \", f1score_test_tree)\n",
    "\n",
    "#Afficher une matrice de confusion pour comparer les classes réelles et prédites.\n",
    "#pd.crosstab(y_test, y_pred, rownames=['Classe réelle'], colnames=['Classe prédite'])\n",
    "\n",
    "#matrice de confusion\n",
    "print(pd.crosstab(Y_test, Y_pred_test_tree, rownames=['Classe réelle'], colnames=['Classe prédite']))\n",
    "\n"
   ]
  },
  {
   "cell_type": "code",
   "execution_count": 33,
   "id": "e86174e8",
   "metadata": {},
   "outputs": [
    {
     "name": "stdout",
     "output_type": "stream",
     "text": [
      "acc_train :  1.0 acc_test : 0.9542857142857143\n",
      "F1score_train :  1.0 F1score_test :  0.9500428204396231\n",
      "Classe prédite    0   1\n",
      "Classe réelle          \n",
      "0               109   3\n",
      "1                 5  58\n"
     ]
    }
   ],
   "source": [
    "from sklearn.ensemble import RandomForestClassifier\n",
    "classifier = RandomForestClassifier(n_estimators = 10, criterion = 'entropy', random_state = 0)\n",
    "classifier.fit(X_train, Y_train)\n",
    "\n",
    "#predire\n",
    "Y_pred_train_RF = classifier.predict(X_train)\n",
    "Y_pred_test_RF = classifier.predict(X_test)\n",
    "\n",
    "\n",
    "#obtenir l'accuracy\n",
    "acc_train_RF = accuracy_score(Y_train, Y_pred_train_RF)\n",
    "acc_test_RF = accuracy_score(Y_test, Y_pred_test_RF)\n",
    "\n",
    "#obtenir le F1 score\n",
    "f1score_train_RF = f1_score(Y_train, Y_pred_train_RF, average='macro')\n",
    "f1score_test_RF = f1_score(Y_test, Y_pred_test_RF, average='macro')\n",
    "\n",
    "#afficher l'accuracy et F1 score\n",
    "print(\"acc_train : \", acc_train_RF, \"acc_test :\", acc_test_RF)\n",
    "print(\"F1score_train : \", f1score_train_RF, \"F1score_test : \", f1score_test_RF)\n",
    "\n",
    "#Afficher une matrice de confusion pour comparer les classes réelles et prédites.\n",
    "#pd.crosstab(y_test, y_pred, rownames=['Classe réelle'], colnames=['Classe prédite'])\n",
    "\n",
    "#matrice de confusion\n",
    "print(pd.crosstab(Y_test, Y_pred_test_RF, rownames=['Classe réelle'], colnames=['Classe prédite']))\n"
   ]
  },
  {
   "cell_type": "code",
   "execution_count": 34,
   "id": "40dc430b",
   "metadata": {},
   "outputs": [
    {
     "name": "stdout",
     "output_type": "stream",
     "text": [
      "logreg results\n",
      "acc_train :  0.9618320610687023 acc_test : 0.9428571428571428\n",
      "F1score_train :  0.9575742854829569 F1score_test :  0.937553525549529\n",
      "Classe prédite    0   1\n",
      "Classe réelle          \n",
      "0               108   4\n",
      "1                 6  57\n",
      " \n",
      "KNN results\n",
      "acc_train :  0.9713740458015268 acc_test : 0.9428571428571428\n",
      "F1score_train :  0.9683899378657175 F1score_test :  0.9379960317460317\n",
      "Classe prédite    0   1\n",
      "Classe réelle          \n",
      "0               107   5\n",
      "1                 5  58\n",
      " \n",
      "SVC results\n",
      "acc_train :  0.9599236641221374 acc_test : 0.9542857142857143\n",
      "F1score_train :  0.9555126116328618 F1score_test :  0.9503968253968254\n",
      "Classe prédite    0   1\n",
      "Classe réelle          \n",
      "0               108   4\n",
      "1                 4  59\n",
      " \n",
      "SVC kernel results\n",
      "acc_train :  0.9675572519083969 acc_test : 0.96\n",
      "F1score_train :  0.9641752629144799 F1score_test :  0.9567458776173158\n",
      "Classe prédite    0   1\n",
      "Classe réelle          \n",
      "0               108   4\n",
      "1                 3  60\n",
      " \n",
      "naive bayes results\n",
      "acc_train :  0.9599236641221374 acc_test : 0.9428571428571428\n",
      "F1score_train :  0.9559711435739235 F1score_test :  0.9384149774774774\n",
      "Classe prédite    0   1\n",
      "Classe réelle          \n",
      "0               106   6\n",
      "1                 4  59\n",
      " \n",
      "decision tree results\n",
      "acc_train :  1.0 acc_test : 0.9028571428571428\n",
      "F1score_train :  1.0 F1score_test :  0.8942222222222223\n",
      "Classe prédite    0   1\n",
      "Classe réelle          \n",
      "0               104   8\n",
      "1                 9  54\n",
      " \n",
      "random forest tree results\n",
      "acc_train :  1.0 acc_test : 0.9542857142857143\n",
      "F1score_train :  1.0 F1score_test :  0.9500428204396231\n",
      "Classe prédite    0   1\n",
      "Classe réelle          \n",
      "0               109   3\n",
      "1                 5  58\n"
     ]
    }
   ],
   "source": [
    "#analysons ces premiers résultats.\n",
    "print(\"logreg results\")\n",
    "print(\"acc_train : \", acc_train_logreg, \"acc_test :\", acc_test_logreg)\n",
    "print(\"F1score_train : \", f1score_train_logreg, \"F1score_test : \", f1score_test_logreg)\n",
    "print(pd.crosstab(Y_test, Y_pred_test_logreg, rownames=['Classe réelle'], colnames=['Classe prédite']))\n",
    "print(\" \")\n",
    "print(\"KNN results\")\n",
    "print(\"acc_train : \", acc_train_KNN, \"acc_test :\", acc_test_KNN)\n",
    "print(\"F1score_train : \", f1score_train_KNN, \"F1score_test : \", f1score_test_KNN)\n",
    "print(pd.crosstab(Y_test, Y_pred_test_KNN, rownames=['Classe réelle'], colnames=['Classe prédite']))\n",
    "print(\" \")\n",
    "print(\"SVC results\")\n",
    "print(\"acc_train : \", acc_train_SVC, \"acc_test :\", acc_test_SVC)\n",
    "print(\"F1score_train : \", f1score_train_SVC, \"F1score_test : \", f1score_test_SVC)\n",
    "print(pd.crosstab(Y_test, Y_pred_test_SVC, rownames=['Classe réelle'], colnames=['Classe prédite']))\n",
    "print(\" \")\n",
    "print(\"SVC kernel results\")\n",
    "print(\"acc_train : \", acc_train_SVCrbf, \"acc_test :\", acc_test_SVCrbf)\n",
    "print(\"F1score_train : \", f1score_train_SVCrbf, \"F1score_test : \", f1score_test_SVCrbf)\n",
    "print(pd.crosstab(Y_test, Y_pred_test_SVCrbf, rownames=['Classe réelle'], colnames=['Classe prédite']))\n",
    "print(\" \")\n",
    "print(\"naive bayes results\")\n",
    "print(\"acc_train : \", acc_train_gauss, \"acc_test :\", acc_test_gauss)\n",
    "print(\"F1score_train : \", f1score_train_gauss, \"F1score_test : \", f1score_test_gauss)\n",
    "print(pd.crosstab(Y_test, Y_pred_test_gauss, rownames=['Classe réelle'], colnames=['Classe prédite']))\n",
    "print(\" \")\n",
    "print(\"decision tree results\")\n",
    "print(\"acc_train : \", acc_train_tree, \"acc_test :\", acc_test_tree)\n",
    "print(\"F1score_train : \", f1score_train_tree, \"F1score_test : \", f1score_test_tree)\n",
    "print(pd.crosstab(Y_test, Y_pred_test_tree, rownames=['Classe réelle'], colnames=['Classe prédite']))\n",
    "print(\" \")\n",
    "print(\"random forest tree results\")\n",
    "print(\"acc_train : \", acc_train_RF, \"acc_test :\", acc_test_RF)\n",
    "print(\"F1score_train : \", f1score_train_RF, \"F1score_test : \", f1score_test_RF)\n",
    "print(pd.crosstab(Y_test, Y_pred_test_RF, rownames=['Classe réelle'], colnames=['Classe prédite']))"
   ]
  },
  {
   "cell_type": "code",
   "execution_count": 41,
   "id": "8e32b31b",
   "metadata": {},
   "outputs": [],
   "source": [
    "#nous allons garder deux algos : SVC kernel et RF"
   ]
  },
  {
   "cell_type": "code",
   "execution_count": 42,
   "id": "fad10633",
   "metadata": {},
   "outputs": [],
   "source": [
    "#cela dit, ces très bonnes peformances peuvent etre dues à un surapprentissage.\n",
    "#nous allons donc refaire la prédiction, mais avec 5 jeux tirés aléatoirement"
   ]
  },
  {
   "cell_type": "code",
   "execution_count": 51,
   "id": "b911a4c9",
   "metadata": {},
   "outputs": [],
   "source": [
    "#Feature Scaling\n",
    "from sklearn.preprocessing import StandardScaler\n",
    "\n",
    "sc = StandardScaler()\n",
    "Xsc = sc.fit_transform(X)\n",
    "\n",
    "#partage des données : 5 seeds\n",
    "X_train1, X_test1, Y_train1, Y_test1 = train_test_split(Xsc, Y, test_size = 0.25, random_state = 4)\n",
    "X_train2, X_test2, Y_train2, Y_test2 = train_test_split(Xsc, Y, test_size = 0.25, random_state = 8)\n",
    "X_train3, X_test3, Y_train3, Y_test3 = train_test_split(Xsc, Y, test_size = 0.25, random_state = 12)\n",
    "X_train4, X_test4, Y_train4, Y_test4 = train_test_split(Xsc, Y, test_size = 0.25, random_state = 24)\n",
    "X_train5, X_test5, Y_train5, Y_test5 = train_test_split(Xsc, Y, test_size = 0.25, random_state = 42)"
   ]
  },
  {
   "cell_type": "code",
   "execution_count": 52,
   "id": "aaca2615",
   "metadata": {},
   "outputs": [
    {
     "name": "stdout",
     "output_type": "stream",
     "text": [
      "acc_train :  0.9637404580152672 acc_test : 0.9657142857142857\n",
      "F1score_train :  0.9600633787280131 F1score_test :  0.9622519413287317\n",
      "Classe prédite    0   1\n",
      "Classe réelle          \n",
      "0               111   2\n",
      "1                 4  58\n",
      "acc_train :  0.9713740458015268 acc_test : 0.9485714285714286\n",
      "F1score_train :  0.9685508168385168 F1score_test :  0.944\n",
      "Classe prédite    0   1\n",
      "Classe réelle          \n",
      "0               108   7\n",
      "1                 2  58\n",
      "acc_train :  0.9656488549618321 acc_test : 0.5428571428571428\n",
      "F1score_train :  0.9621168305378832 F1score_test :  0.5073198198198198\n",
      "Classe prédite   0   1\n",
      "Classe réelle         \n",
      "0               71  42\n",
      "1               38  24\n",
      "acc_train :  0.9618320610687023 acc_test : 0.4857142857142857\n",
      "F1score_train :  0.9583253801616085 F1score_test :  0.42934782608695654\n",
      "Classe prédite   0   1\n",
      "Classe réelle         \n",
      "0               70  47\n",
      "1               43  15\n",
      "acc_train :  0.9675572519083969 acc_test : 0.5542857142857143\n",
      "F1score_train :  0.9647033184744923 F1score_test :  0.5054347826086957\n",
      "Classe prédite   0   1\n",
      "Classe réelle         \n",
      "0               76  42\n",
      "1               36  21\n",
      "accuracy train moyenne =  0.966030534351145  +/- 0.003670874820929639\n",
      "accuracy test moyenne =  0.6994285714285714  +/- 0.23676734468715085\n",
      "f1 train moyenne =  0.9627519449481028  +/- 0.004020603446120851\n",
      "f1 test moyenne =  0.6696708739688407  +/- 0.2607425340245945\n"
     ]
    }
   ],
   "source": [
    "#Using SVC rbf kernel\n",
    "#réécriture sous forme de fonction, pas économie d'espace\n",
    "from statistics import mean \n",
    "from statistics import stdev\n",
    "from sklearn.svm import SVC\n",
    "\n",
    "accuracy_list_train = []\n",
    "accuracy_list_test = []\n",
    "F1_list_train = []\n",
    "F1_list_test = []\n",
    "\n",
    "def runSVCkernel(xtrain, ytrain, xtest, ytest):\n",
    "    \n",
    "    #entrainer\n",
    "    classifier = SVC(kernel = 'rbf', random_state = 0)\n",
    "    classifier.fit(xtrain, ytrain)\n",
    "\n",
    "    #predire\n",
    "    Y_pred_train_SVCrbf = classifier.predict(xtrain)\n",
    "    Y_pred_test_SVCrbf = classifier.predict(xtest)\n",
    "\n",
    "\n",
    "    #obtenir l'accuracy\n",
    "    acc_train_SVCrbf = accuracy_score(ytrain, Y_pred_train_SVCrbf)\n",
    "    acc_test_SVCrbf = accuracy_score(ytest, Y_pred_test_SVCrbf)\n",
    "\n",
    "    #obtenir le F1 score\n",
    "    f1score_train_SVCrbf = f1_score(ytrain, Y_pred_train_SVCrbf, average='macro')\n",
    "    f1score_test_SVCrbf = f1_score(ytest, Y_pred_test_SVCrbf, average='macro')\n",
    "\n",
    "    #afficher l'accuracy et F1 score\n",
    "    print(\"acc_train : \", acc_train_SVCrbf, \"acc_test :\", acc_test_SVCrbf)\n",
    "    print(\"F1score_train : \", f1score_train_SVCrbf, \"F1score_test : \", f1score_test_SVCrbf)\n",
    "\n",
    "    #Afficher une matrice de confusion pour comparer les classes réelles et prédites.\n",
    "    #matrice de confusion\n",
    "    print(pd.crosstab(ytest, Y_pred_test_SVCrbf, rownames=['Classe réelle'], colnames=['Classe prédite']))\n",
    "    \n",
    "    #enregrister pour calcul moyenne\n",
    "    accuracy_list_train.append(acc_train_SVCrbf)\n",
    "    accuracy_list_test.append(acc_test_SVCrbf)\n",
    "    F1_list_train.append(f1score_train_SVCrbf)\n",
    "    F1_list_test.append(f1score_test_SVCrbf)\n",
    "    \n",
    "    \n",
    "runSVCkernel(X_train1, Y_train1, X_test1, Y_test1)\n",
    "runSVCkernel(X_train2, Y_train2, X_test2, Y_test2)\n",
    "runSVCkernel(X_train3, Y_train3, X_test2, Y_test3)\n",
    "runSVCkernel(X_train4, Y_train4, X_test2, Y_test4)\n",
    "runSVCkernel(X_train5, Y_train5, X_test2, Y_test5)\n",
    "\n",
    "\n",
    "print(\"accuracy train moyenne = \", mean(accuracy_list_train), \" +/-\", stdev(accuracy_list_train))\n",
    "print(\"accuracy test moyenne = \", mean(accuracy_list_test), \" +/-\", stdev(accuracy_list_test))\n",
    "print(\"f1 train moyenne = \", mean(F1_list_train), \" +/-\", stdev(F1_list_train))\n",
    "print(\"f1 test moyenne = \", mean(F1_list_test), \" +/-\", stdev(F1_list_test))"
   ]
  },
  {
   "cell_type": "code",
   "execution_count": null,
   "id": "32a4aee8",
   "metadata": {},
   "outputs": [],
   "source": [
    "#nous observons une chute des performances en prédiction. Il y avait bien surapprentissage.\n",
    "#Devons nous considerer qu'une accuracy et un f1 moyens de 0.69 et 0.66 +/- 0.23-0.25 sont acceptables ?\n",
    "#le nombre cumulé de faux négatifs et faux positifs cumulé est équivalent au nombre de vrais positifs.\n",
    "\n",
    "#nous pourrions tenter un oversampling afin de compenser la différence de nombre entre classe 1 et 2 \n",
    "# montrée dans la partie exploration des données.\n",
    "#nous n'allons pas tenter une sélection de variables ou une réduction de dimension au vu de peu de variables dont nous disposons."
   ]
  },
  {
   "cell_type": "code",
   "execution_count": 53,
   "id": "9cc57040",
   "metadata": {},
   "outputs": [
    {
     "name": "stdout",
     "output_type": "stream",
     "text": [
      "acc_train :  0.9980916030534351 acc_test : 0.9542857142857143\n",
      "F1score_train :  0.9978758507744632 F1score_test :  0.9619565217391304\n",
      "Classe prédite    0   1\n",
      "Classe réelle          \n",
      "0               112   1\n",
      "1                 5  57\n",
      "acc_train :  0.9961832061068703 acc_test : 0.9542857142857143\n",
      "F1score_train :  0.9957798431132516 F1score_test :  0.9492753623188406\n",
      "Classe prédite    0   1\n",
      "Classe réelle          \n",
      "0               111   4\n",
      "1                 4  56\n",
      "acc_train :  1.0 acc_test : 0.9542857142857143\n",
      "F1score_train :  1.0 F1score_test :  0.512917499286326\n",
      "Classe prédite   0   1\n",
      "Classe réelle         \n",
      "0               74  39\n",
      "1               39  23\n",
      "acc_train :  0.9961832061068703 acc_test : 0.9542857142857143\n",
      "F1score_train :  0.995812020460358 F1score_test :  0.4415098492351711\n",
      "Classe prédite   0   1\n",
      "Classe réelle         \n",
      "0               73  44\n",
      "1               43  15\n",
      "acc_train :  0.9942748091603053 acc_test : 0.9542857142857143\n",
      "F1score_train :  0.993725828274483 F1score_test :  0.4886031560490941\n",
      "Classe prédite   0   1\n",
      "Classe réelle         \n",
      "0               76  42\n",
      "1               38  19\n",
      "accuracy train moyenne =  0.9969465648854962  +/- 0.002175907299807521\n",
      "accuracy test moyenne =  0.9542857142857143  +/- 0.0\n",
      "f1 train moyenne =  0.9966387085245112  +/- 0.002384047798959045\n",
      "f1 test moyenne =  0.6708524777257124  +/- 0.26125523009851487\n"
     ]
    }
   ],
   "source": [
    "#Using SVC rbf kernel\n",
    "#réécriture sous forme de fonction, pas économie d'espace\n",
    "from statistics import mean \n",
    "from statistics import stdev\n",
    "from sklearn.ensemble import RandomForestClassifier\n",
    "\n",
    "accuracy_list_train = []\n",
    "accuracy_list_test = []\n",
    "F1_list_train = []\n",
    "F1_list_test = []\n",
    "\n",
    "def runRF(xtrain, ytrain, xtest, ytest):\n",
    "    \n",
    "    #entrainer\n",
    "    classifier = RandomForestClassifier(n_estimators = 10, criterion = 'entropy', random_state = 0)\n",
    "    classifier.fit(xtrain, ytrain)\n",
    "\n",
    "    #predire\n",
    "    Y_pred_train_RF = classifier.predict(xtrain)\n",
    "    Y_pred_test_RF = classifier.predict(xtest)\n",
    "\n",
    "\n",
    "    #obtenir l'accuracy\n",
    "    acc_train_RF = accuracy_score(ytrain, Y_pred_train_RF)\n",
    "    acc_test_RV = accuracy_score(ytest, Y_pred_test_RF)\n",
    "\n",
    "    #obtenir le F1 score\n",
    "    f1score_train_RF = f1_score(ytrain, Y_pred_train_RF, average='macro')\n",
    "    f1score_test_RF = f1_score(ytest, Y_pred_test_RF, average='macro')\n",
    "\n",
    "    #afficher l'accuracy et F1 score\n",
    "    print(\"acc_train : \", acc_train_RF, \"acc_test :\", acc_test_RF)\n",
    "    print(\"F1score_train : \", f1score_train_RF, \"F1score_test : \", f1score_test_RF)\n",
    "\n",
    "    #Afficher une matrice de confusion pour comparer les classes réelles et prédites.\n",
    "    #matrice de confusion\n",
    "    print(pd.crosstab(ytest, Y_pred_test_RF, rownames=['Classe réelle'], colnames=['Classe prédite']))\n",
    "    \n",
    "    #enregrister pour calcul moyenne\n",
    "    accuracy_list_train.append(acc_train_RF)\n",
    "    accuracy_list_test.append(acc_test_RF)\n",
    "    F1_list_train.append(f1score_train_RF)\n",
    "    F1_list_test.append(f1score_test_RF)\n",
    "    \n",
    "    \n",
    "runRF(X_train1, Y_train1, X_test1, Y_test1)\n",
    "runRF(X_train2, Y_train2, X_test2, Y_test2)\n",
    "runRF(X_train3, Y_train3, X_test2, Y_test3)\n",
    "runRF(X_train4, Y_train4, X_test2, Y_test4)\n",
    "runRF(X_train5, Y_train5, X_test2, Y_test5)\n",
    "\n",
    "\n",
    "print(\"accuracy train moyenne = \", mean(accuracy_list_train), \" +/-\", stdev(accuracy_list_train))\n",
    "print(\"accuracy test moyenne = \", mean(accuracy_list_test), \" +/-\", stdev(accuracy_list_test))\n",
    "print(\"f1 train moyenne = \", mean(F1_list_train), \" +/-\", stdev(F1_list_train))\n",
    "print(\"f1 test moyenne = \", mean(F1_list_test), \" +/-\", stdev(F1_list_test))"
   ]
  },
  {
   "cell_type": "code",
   "execution_count": null,
   "id": "e4fa633c",
   "metadata": {},
   "outputs": [],
   "source": [
    "#nous observons une chute des performances du F1 en prédiction, par contre l'accuracy de préduction se maintient.\n",
    "#je suis très sceptique sur le calcul de l'accuracy de test.\n",
    "#le nombre cumulé de faux négatifs et faux positifs cumulé est équivalent au nombre de vrais positifs.\n",
    "\n",
    "#nous pourrions tenter un oversampling afin de compenser la différence de nombre entre classe 1 et 2 \n",
    "# montrée dans la partie exploration des données.\n",
    "#nous n'allons pas tenter une sélection de variables ou une réduction de dimension au vu de peu de variables dont nous disposons."
   ]
  },
  {
   "cell_type": "code",
   "execution_count": 54,
   "id": "2de4b4d1",
   "metadata": {},
   "outputs": [
    {
     "name": "stdout",
     "output_type": "stream",
     "text": [
      "Requirement already satisfied: imblearn in c:\\programdata\\anaconda3\\lib\\site-packages (0.0)\n",
      "Requirement already satisfied: imbalanced-learn in c:\\programdata\\anaconda3\\lib\\site-packages (from imblearn) (0.7.0)\n",
      "Requirement already satisfied: scikit-learn>=0.23 in c:\\programdata\\anaconda3\\lib\\site-packages (from imbalanced-learn->imblearn) (1.0.2)\n",
      "Requirement already satisfied: numpy>=1.13.3 in c:\\programdata\\anaconda3\\lib\\site-packages (from imbalanced-learn->imblearn) (1.21.5)\n",
      "Requirement already satisfied: joblib>=0.11 in c:\\programdata\\anaconda3\\lib\\site-packages (from imbalanced-learn->imblearn) (1.1.0)\n",
      "Requirement already satisfied: scipy>=0.19.1 in c:\\programdata\\anaconda3\\lib\\site-packages (from imbalanced-learn->imblearn) (1.7.3)\n",
      "Requirement already satisfied: threadpoolctl>=2.0.0 in c:\\programdata\\anaconda3\\lib\\site-packages (from scikit-learn>=0.23->imbalanced-learn->imblearn) (2.2.0)\n"
     ]
    },
    {
     "name": "stderr",
     "output_type": "stream",
     "text": [
      "WARNING: Ignoring invalid distribution -ikit-learn (c:\\programdata\\anaconda3\\lib\\site-packages)\n",
      "WARNING: Ignoring invalid distribution -ikit-learn (c:\\programdata\\anaconda3\\lib\\site-packages)\n",
      "WARNING: Ignoring invalid distribution - (c:\\programdata\\anaconda3\\lib\\site-packages)\n",
      "WARNING: Ignoring invalid distribution -cikit-learn (c:\\programdata\\anaconda3\\lib\\site-packages)\n",
      "WARNING: Ignoring invalid distribution -ikit-learn (c:\\programdata\\anaconda3\\lib\\site-packages)\n",
      "WARNING: Ignoring invalid distribution -ikit-learn (c:\\programdata\\anaconda3\\lib\\site-packages)\n",
      "WARNING: Ignoring invalid distribution - (c:\\programdata\\anaconda3\\lib\\site-packages)\n",
      "WARNING: Ignoring invalid distribution -cikit-learn (c:\\programdata\\anaconda3\\lib\\site-packages)\n",
      "WARNING: Ignoring invalid distribution -ikit-learn (c:\\programdata\\anaconda3\\lib\\site-packages)\n",
      "WARNING: Ignoring invalid distribution -ikit-learn (c:\\programdata\\anaconda3\\lib\\site-packages)\n",
      "WARNING: Ignoring invalid distribution - (c:\\programdata\\anaconda3\\lib\\site-packages)\n",
      "WARNING: Ignoring invalid distribution -cikit-learn (c:\\programdata\\anaconda3\\lib\\site-packages)\n",
      "WARNING: Ignoring invalid distribution -ikit-learn (c:\\programdata\\anaconda3\\lib\\site-packages)\n",
      "WARNING: Ignoring invalid distribution -ikit-learn (c:\\programdata\\anaconda3\\lib\\site-packages)\n",
      "WARNING: Ignoring invalid distribution - (c:\\programdata\\anaconda3\\lib\\site-packages)\n",
      "WARNING: Ignoring invalid distribution -cikit-learn (c:\\programdata\\anaconda3\\lib\\site-packages)\n",
      "WARNING: Ignoring invalid distribution -ikit-learn (c:\\programdata\\anaconda3\\lib\\site-packages)\n",
      "WARNING: Ignoring invalid distribution -ikit-learn (c:\\programdata\\anaconda3\\lib\\site-packages)\n",
      "WARNING: Ignoring invalid distribution - (c:\\programdata\\anaconda3\\lib\\site-packages)\n",
      "WARNING: Ignoring invalid distribution -cikit-learn (c:\\programdata\\anaconda3\\lib\\site-packages)\n",
      "WARNING: Ignoring invalid distribution -ikit-learn (c:\\programdata\\anaconda3\\lib\\site-packages)\n",
      "WARNING: Ignoring invalid distribution -ikit-learn (c:\\programdata\\anaconda3\\lib\\site-packages)\n",
      "WARNING: Ignoring invalid distribution - (c:\\programdata\\anaconda3\\lib\\site-packages)\n",
      "WARNING: Ignoring invalid distribution -cikit-learn (c:\\programdata\\anaconda3\\lib\\site-packages)\n"
     ]
    },
    {
     "name": "stdout",
     "output_type": "stream",
     "text": [
      "Classes échantillon SMOTE : {0: 458, 1: 458}\n"
     ]
    }
   ],
   "source": [
    "#test avec oversampling smote\n",
    "!pip install imblearn\n",
    "from imblearn.over_sampling import RandomOverSampler, SMOTE\n",
    "\n",
    "smo = SMOTE()\n",
    "x_sm, y_sm = smo.fit_resample(Xsc, Y)\n",
    "print('Classes échantillon SMOTE :', dict(pd.Series(y_sm).value_counts()))\n",
    "\n",
    "#partage des données : 5 seeds\n",
    "X_train1, X_test1, Y_train1, Y_test1 = train_test_split(x_sm, y_sm, test_size = 0.25, random_state = 4)\n",
    "X_train2, X_test2, Y_train2, Y_test2 = train_test_split(x_sm, y_sm, test_size = 0.25, random_state = 8)\n",
    "X_train3, X_test3, Y_train3, Y_test3 = train_test_split(x_sm, y_sm, test_size = 0.25, random_state = 12)\n",
    "X_train4, X_test4, Y_train4, Y_test4 = train_test_split(x_sm, y_sm, test_size = 0.25, random_state = 24)\n",
    "X_train5, X_test5, Y_train5, Y_test5 = train_test_split(x_sm, y_sm, test_size = 0.25, random_state = 42)"
   ]
  },
  {
   "cell_type": "code",
   "execution_count": 56,
   "id": "650e1bd5",
   "metadata": {},
   "outputs": [
    {
     "name": "stdout",
     "output_type": "stream",
     "text": [
      "acc_train :  0.9621542940320232 acc_test : 0.982532751091703\n",
      "F1score_train :  0.9621253244219776 F1score_test :  0.9824762779308234\n",
      "Classe prédite    0    1\n",
      "Classe réelle           \n",
      "0               119    3\n",
      "1                 1  106\n",
      "acc_train :  0.9679767103347889 acc_test : 0.9694323144104804\n",
      "F1score_train :  0.9679570895522389 F1score_test :  0.9691475643320437\n",
      "Classe prédite    0    1\n",
      "Classe réelle           \n",
      "0               100    2\n",
      "1                 5  122\n",
      "acc_train :  0.9767103347889374 acc_test : 0.4890829694323144\n",
      "F1score_train :  0.9767102854430809 F1score_test :  0.4859067099027189\n",
      "Classe prédite   0   1\n",
      "Classe réelle         \n",
      "0               47  63\n",
      "1               54  65\n",
      "acc_train :  0.9767103347889374 acc_test : 0.5807860262008734\n",
      "F1score_train :  0.9766925073366015 F1score_test :  0.5801375095492742\n",
      "Classe prédite   0   1\n",
      "Classe réelle         \n",
      "0               62  58\n",
      "1               38  71\n",
      "acc_train :  0.975254730713246 acc_test : 0.4978165938864629\n",
      "F1score_train :  0.9752413013845282 F1score_test :  0.4972029707696126\n",
      "Classe prédite   0   1\n",
      "Classe réelle         \n",
      "0               53  66\n",
      "1               49  61\n",
      "accuracy train moyenne =  0.9717612809315866  +/- 0.006477029246371782\n",
      "accuracy test moyenne =  0.7039301310043669  +/- 0.2509568652575663\n",
      "f1 train moyenne =  0.9717453016276855  +/- 0.006485415080783431\n",
      "f1 test moyenne =  0.7029742064968946  +/- 0.2517531618493063\n"
     ]
    }
   ],
   "source": [
    "#Using SVC rbf kernel\n",
    "#réécriture sous forme de fonction, pas économie d'espace\n",
    "from statistics import mean \n",
    "from statistics import stdev\n",
    "from sklearn.svm import SVC\n",
    "\n",
    "accuracy_list_train = []\n",
    "accuracy_list_test = []\n",
    "F1_list_train = []\n",
    "F1_list_test = []\n",
    "\n",
    "def runSVCkernel(xtrain, ytrain, xtest, ytest):\n",
    "    \n",
    "    #entrainer\n",
    "    classifier = SVC(kernel = 'rbf', random_state = 0)\n",
    "    classifier.fit(xtrain, ytrain)\n",
    "\n",
    "    #predire\n",
    "    Y_pred_train_SVCrbf = classifier.predict(xtrain)\n",
    "    Y_pred_test_SVCrbf = classifier.predict(xtest)\n",
    "\n",
    "\n",
    "    #obtenir l'accuracy\n",
    "    acc_train_SVCrbf = accuracy_score(ytrain, Y_pred_train_SVCrbf)\n",
    "    acc_test_SVCrbf = accuracy_score(ytest, Y_pred_test_SVCrbf)\n",
    "\n",
    "    #obtenir le F1 score\n",
    "    f1score_train_SVCrbf = f1_score(ytrain, Y_pred_train_SVCrbf, average='macro')\n",
    "    f1score_test_SVCrbf = f1_score(ytest, Y_pred_test_SVCrbf, average='macro')\n",
    "\n",
    "    #afficher l'accuracy et F1 score\n",
    "    print(\"acc_train : \", acc_train_SVCrbf, \"acc_test :\", acc_test_SVCrbf)\n",
    "    print(\"F1score_train : \", f1score_train_SVCrbf, \"F1score_test : \", f1score_test_SVCrbf)\n",
    "\n",
    "    #Afficher une matrice de confusion pour comparer les classes réelles et prédites.\n",
    "    #matrice de confusion\n",
    "    print(pd.crosstab(ytest, Y_pred_test_SVCrbf, rownames=['Classe réelle'], colnames=['Classe prédite']))\n",
    "    \n",
    "    #enregrister pour calcul moyenne\n",
    "    accuracy_list_train.append(acc_train_SVCrbf)\n",
    "    accuracy_list_test.append(acc_test_SVCrbf)\n",
    "    F1_list_train.append(f1score_train_SVCrbf)\n",
    "    F1_list_test.append(f1score_test_SVCrbf)\n",
    "    \n",
    "    \n",
    "runSVCkernel(X_train1, Y_train1, X_test1, Y_test1)\n",
    "runSVCkernel(X_train2, Y_train2, X_test2, Y_test2)\n",
    "runSVCkernel(X_train3, Y_train3, X_test2, Y_test3)\n",
    "runSVCkernel(X_train4, Y_train4, X_test2, Y_test4)\n",
    "runSVCkernel(X_train5, Y_train5, X_test2, Y_test5)\n",
    "\n",
    "\n",
    "print(\"accuracy train moyenne = \", mean(accuracy_list_train), \" +/-\", stdev(accuracy_list_train))\n",
    "print(\"accuracy test moyenne = \", mean(accuracy_list_test), \" +/-\", stdev(accuracy_list_test))\n",
    "print(\"f1 train moyenne = \", mean(F1_list_train), \" +/-\", stdev(F1_list_train))\n",
    "print(\"f1 test moyenne = \", mean(F1_list_test), \" +/-\", stdev(F1_list_test))"
   ]
  },
  {
   "cell_type": "code",
   "execution_count": null,
   "id": "ffd52cb6",
   "metadata": {},
   "outputs": [],
   "source": [
    "#on gagne 0.3 sur le f1 et 0.1 sur l'accuracy en prédiction.\n",
    "#l'oversampling smote n'est pas efficace.\n"
   ]
  },
  {
   "cell_type": "code",
   "execution_count": null,
   "id": "278771eb",
   "metadata": {},
   "outputs": [],
   "source": [
    "#Conclusion :\n",
    "#nous ne poursuivons pas avec des performances aussi faibles, surtout en cancérologie.\n",
    "#d'autres stratégies devront etre étudiées."
   ]
  }
 ],
 "metadata": {
  "kernelspec": {
   "display_name": "Python 3 (ipykernel)",
   "language": "python",
   "name": "python3"
  },
  "language_info": {
   "codemirror_mode": {
    "name": "ipython",
    "version": 3
   },
   "file_extension": ".py",
   "mimetype": "text/x-python",
   "name": "python",
   "nbconvert_exporter": "python",
   "pygments_lexer": "ipython3",
   "version": "3.9.12"
  }
 },
 "nbformat": 4,
 "nbformat_minor": 5
}
